# exploratory analysis of Geolocational data
